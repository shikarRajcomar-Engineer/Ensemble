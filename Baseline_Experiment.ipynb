{
  "nbformat": 4,
  "nbformat_minor": 0,
  "metadata": {
    "colab": {
      "name": "Baseline Experiment.ipynb",
      "provenance": [],
      "authorship_tag": "ABX9TyMZsLmpN5nFW+fnnHNVPz+I",
      "include_colab_link": true
    },
    "kernelspec": {
      "name": "python3",
      "display_name": "Python 3"
    },
    "accelerator": "GPU"
  },
  "cells": [
    {
      "cell_type": "markdown",
      "metadata": {
        "id": "view-in-github",
        "colab_type": "text"
      },
      "source": [
        "<a href=\"https://colab.research.google.com/github/shikarRajcomar-Engineer/Ensemble/blob/master/Baseline_Experiment.ipynb\" target=\"_parent\"><img src=\"https://colab.research.google.com/assets/colab-badge.svg\" alt=\"Open In Colab\"/></a>"
      ]
    },
    {
      "cell_type": "code",
      "metadata": {
        "id": "16vO9PuxEbRu",
        "colab_type": "code",
        "colab": {
          "base_uri": "https://localhost:8080/",
          "height": 122
        },
        "outputId": "0f5efb37-3073-403a-abea-2f65db48da2a"
      },
      "source": [
        "from google.colab import drive\n",
        "drive.mount('/content/drive')\n"
      ],
      "execution_count": 2,
      "outputs": [
        {
          "output_type": "stream",
          "text": [
            "Go to this URL in a browser: https://accounts.google.com/o/oauth2/auth?client_id=947318989803-6bn6qk8qdgf4n4g3pfee6491hc0brc4i.apps.googleusercontent.com&redirect_uri=urn%3aietf%3awg%3aoauth%3a2.0%3aoob&response_type=code&scope=email%20https%3a%2f%2fwww.googleapis.com%2fauth%2fdocs.test%20https%3a%2f%2fwww.googleapis.com%2fauth%2fdrive%20https%3a%2f%2fwww.googleapis.com%2fauth%2fdrive.photos.readonly%20https%3a%2f%2fwww.googleapis.com%2fauth%2fpeopleapi.readonly\n",
            "\n",
            "Enter your authorization code:\n",
            "··········\n",
            "Mounted at /content/drive\n"
          ],
          "name": "stdout"
        }
      ]
    },
    {
      "cell_type": "code",
      "metadata": {
        "id": "JF32mC-uEnuT",
        "colab_type": "code",
        "colab": {}
      },
      "source": [
        "import pandas as pd\n",
        "\n",
        "path='/content/drive/My Drive/B1-Msc experiment/'    \n",
        "Results=pd.DataFrame([])\n",
        "Results1=pd.DataFrame([])\n",
        "Results2=pd.DataFrame([])\n",
        "Results3=pd.DataFrame([])\n",
        "Results4=pd.DataFrame([])\n",
        "Results5=pd.DataFrame([])\n",
        "Results6=pd.DataFrame([])\n",
        "\n",
        "\n",
        "Dataset=['la_muse224']"
      ],
      "execution_count": 3,
      "outputs": []
    },
    {
      "cell_type": "code",
      "metadata": {
        "id": "HFymjuySEtGj",
        "colab_type": "code",
        "colab": {
          "base_uri": "https://localhost:8080/",
          "height": 559
        },
        "outputId": "8fcf7ed1-a613-44ab-ac1c-b4a0110da156"
      },
      "source": [
        "from numpy.random import seed\n",
        "seed(2)\n",
        "import tensorflow\n",
        "tensorflow.random.set_seed(2)\n",
        "import numpy as np \n",
        "from os import listdir\n",
        "from os.path import isfile, join\n",
        "import cv2\n",
        "import os\n",
        "import numpy as np\n",
        "from keras.preprocessing.image import ImageDataGenerator, array_to_img, img_to_array, load_img\n",
        "import sys\n",
        "import shutil\n",
        "import keras\n",
        "from keras.models import Sequential\n",
        "from keras.utils.vis_utils import plot_model\n",
        "import matplotlib.pyplot as plt\n",
        "import matplotlib.image as mpimg\n",
        "from keras.layers import Dense,Dropout,Activation,Flatten\n",
        "from keras.layers import Conv2D,MaxPooling2D\n",
        "from keras import backend as K\n",
        "import pandas as pd\n",
        "from sklearn.metrics import classification_report\n",
        "from numpy.random import seed\n",
        "from matplotlib import pyplot\n",
        "from numpy import expand_dims\n",
        "from keras.layers import Conv2D, MaxPooling2D, Dropout, Flatten, Dense, Activation, BatchNormalization\n",
        "from sklearn.metrics import classification_report, confusion_matrix\n",
        "from sklearn.metrics import roc_curve,roc_auc_score\n",
        "import sklearn\n",
        "import datetime, os\n",
        "from keras.callbacks import EarlyStopping, ReduceLROnPlateau\n",
        "from keras.regularizers import l2\n",
        "import os\n",
        "import plotly.graph_objs as go\n",
        "from plotly.offline import init_notebook_mode, iplot\n",
        "from plotly import tools\n",
        "from keras.callbacks import ModelCheckpoint\n",
        "from keras.models import load_model\n",
        "import datetime as datetime\n",
        "import tensorflow\n",
        "from skimage import transform as tf\n",
        "import random\n",
        "from keras.regularizers import l2\n",
        "from sklearn.utils import class_weight\n",
        "\n",
        "\n",
        "\n",
        "path='/content/drive/My Drive/B1-Msc experiment/'    \n",
        "\n",
        "\n",
        "\n",
        "batch_size=32\n",
        "steps=100\n",
        "\n",
        "\n",
        "\n",
        "\n",
        "# Define Callback function for early stopping and tensorboard\n",
        "earlystop=EarlyStopping(patience=3)\n",
        "learning_rate_reduction=ReduceLROnPlateau(monitor='val_accuracy'\n",
        "                                        ,patience=3\n",
        "                                        ,verbose=0\n",
        "                                        ,factor=0.5\n",
        "                                        ,min_lr=0.00001)\n",
        "\n",
        "callbacks = [earlystop, learning_rate_reduction]\n",
        "\n",
        "\n",
        "# from keras.applications.vgg16 import VGG16\n",
        "# model = VGG16()\n",
        "\n",
        "\n",
        "def load_data_training_and_test(datasetname):\n",
        "        npzfile=np.load(path+datasetname+'training_data.npz')\n",
        "        train=npzfile['arr_0']\n",
        "        \n",
        "\n",
        "        npzfile=np.load(path+datasetname+'training_labels.npz')\n",
        "        train_labels=npzfile['arr_0']\n",
        "\n",
        "        npzfile=np.load(path+datasetname+'testing_data.npz')\n",
        "        test=npzfile['arr_0']\n",
        "\n",
        "        npzfile=np.load(path+datasetname+'testing_labels.npz')\n",
        "        test_labels=npzfile['arr_0']    \n",
        "        return (train,train_labels),(test,test_labels)\n",
        "\n",
        "(x_train,y_train),(x_test,y_testing)=load_data_training_and_test(Dataset[0])\n",
        "\n",
        "\n",
        "y_train=y_train.reshape(y_train.shape[0],1)\n",
        "y_testing=y_testing.reshape(y_testing.shape[0],1)\n",
        "\n",
        "x_train=x_train.astype('float32')\n",
        "x_test=x_test.astype('float32')\n",
        "\n",
        "x_train/=255\n",
        "x_test/=255\n",
        "training_size=len(x_train)\n",
        "test_size=len(y_testing)\n",
        "classes = np.unique(y_train)\n",
        "nClasses = len(classes)\n",
        "num_classes = len(classes)\n",
        "\n",
        "\n",
        "# from keras.applications.vgg16 import VGG16\n",
        "# model = VGG16()\n",
        "\n",
        "\n",
        "model=Sequential()\n",
        "model.add(Conv2D(32, (3, 3), kernel_initializer=keras.initializers.glorot_uniform(seed=2), kernel_regularizer=l2(0.001), input_shape=x_train.shape[1:]))\n",
        "model.add(Activation('relu'))\n",
        "model.add(MaxPooling2D(2,2))\n",
        "\n",
        "\n",
        "model.add(Conv2D(64, (3, 3), kernel_initializer=keras.initializers.glorot_uniform(seed=2), kernel_regularizer=l2(0.001)))\n",
        "model.add(Activation('relu'))\n",
        "\n",
        "\n",
        "model.add(Conv2D(160, (3, 3), kernel_initializer=keras.initializers.glorot_uniform(seed=2), kernel_regularizer=l2(0.001)))\n",
        "model.add(Activation('relu'))\n",
        "model.add(Dropout(0.2))\n",
        "\n",
        "model.add(Conv2D(160, (3, 3), kernel_initializer=keras.initializers.glorot_uniform(seed=2), kernel_regularizer=l2(0.001)))\n",
        "model.add(Activation('relu'))\n",
        "model.add(Dropout(0.2))\n",
        "\n",
        "\n",
        "model.add(Flatten())  # this converts our 3D feature maps to 1D feature vectors\n",
        "model.add(Dense(2))\n",
        "model.add(Dropout(0.2))\n",
        "model.add(Activation(\"softmax\"))\n",
        "  # from keras.optimizers import SGD\n",
        "  # opt = SGD(lr=0.001)\n",
        "  # model.compile(loss = \"sparse_categorical_crossentropy\", optimizer = opt,\n",
        "  #             metrics=[\"accuracy\"])\n",
        "\n",
        "\n",
        "optimizer = keras.optimizers.Adam(lr=0.0001)\n",
        "model.compile(optimizer=optimizer,\n",
        "              loss=\"sparse_categorical_crossentropy\",\n",
        "        metrics=[\"accuracy\"])\n",
        "\n",
        "datagen = ImageDataGenerator(horizontal_flip=True)\n",
        "val_datagen = ImageDataGenerator(horizontal_flip=True)\n",
        "\n",
        "\n",
        "# Define Callback function for early stopping and tensorboard\n",
        "earlystop=EarlyStopping(patience=5)\n",
        "learning_rate_reduction=ReduceLROnPlateau(monitor='val_accuracy'\n",
        "                                        ,patience=5\n",
        "                                        ,verbose=0\n",
        "                                        ,factor=0.5\n",
        "                                        ,min_lr=0.00001)\n",
        "\n",
        "callbacks = [earlystop, learning_rate_reduction]\n",
        "\n",
        "\n",
        "epochs=50\n",
        "\n",
        "mc = ModelCheckpoint('best_model.h5', monitor='val_accuracy', mode='max', verbose=0, save_best_only=True)\n",
        "\n",
        "# fit model\n",
        "train_generator = datagen.flow(x_train,y_train,batch_size=batch_size)\n",
        "\n",
        "# Flow validation images in batches of 20 using val_datagen generator\n",
        "validation_generator = val_datagen.flow(x_test,y_testing,batch_size=batch_size)\n",
        "\n",
        "history = model.fit_generator(\n",
        "      train_generator,\n",
        "      epochs=epochs,\n",
        "      validation_data=validation_generator,\n",
        "      verbose=0,\n",
        "      shuffle=True\n",
        "      ,callbacks=callbacks)\n",
        "     \n",
        "\n",
        "acc = history.history['accuracy']\n",
        "val_acc = history.history['val_accuracy']\n",
        "loss = history.history['loss']\n",
        "val_loss = history.history['val_loss']\n",
        "epochs_range = range(1, len(history.epoch) + 1)\n",
        "\n",
        "plt.figure(figsize=(15,5))\n",
        "\n",
        "plt.subplot(1, 2, 1)\n",
        "plt.plot(epochs_range, acc, label='Train Set')\n",
        "plt.plot(epochs_range, val_acc, label='Val Set')\n",
        "plt.legend(loc=\"best\")\n",
        "plt.xlabel('Epochs')\n",
        "plt.ylabel('Accuracy')\n",
        "plt.title('Model Accuracy')\n",
        "plt.subplot(1, 2, 2)\n",
        "plt.plot(epochs_range, loss, label='Train Set')\n",
        "plt.plot(epochs_range, val_loss, label='Val Set')\n",
        "plt.legend(loc=\"best\")\n",
        "plt.xlabel('Epochs')\n",
        "plt.ylabel('Loss')\n",
        "plt.title('Model Loss')\n",
        "plt.tight_layout()\n",
        "plt.show()\n",
        "\n",
        "_, train_acc = model.evaluate(x_train, y_train, verbose=0)\n",
        "_, test_acc = model.evaluate(x_test, y_testing, verbose=0)\n",
        "print('Train: %.3f, Test: %.3f' % (train_acc, test_acc))\n",
        "\n",
        "\n",
        "# y_val_cat_prob=model.predict_proba(x_test)\n",
        "\n",
        "# fpr , tpr , thresholds = roc_curve ( y_testing , y_val_cat_prob)\n",
        "# def plot_roc_curve(fpr,tpr): \n",
        "# plt.plot(fpr,tpr) \n",
        "# plt.axis([0,1,0,1]) \n",
        "# plt.xlabel('False Positive Rate') \n",
        "# plt.ylabel('True Positive Rate') \n",
        "# plt.show()    \n",
        "# plot_roc_curve (fpr,tpr)\n",
        "\n",
        "# auc_score=roc_auc_score(y_testing,y_val_cat_prob) \n",
        "\n",
        "\n",
        "his_df=pd.DataFrame(history.history)\n",
        "\n",
        "predicted_classes = model.predict(x_test)\n",
        "predicted_classes = np.argmax(np.round(predicted_classes),axis=1)\n",
        "\n",
        "\n",
        "target_names = [\"Class {}\".format(i) for i in range(num_classes)]\n",
        "report_dict=classification_report(y_testing, predicted_classes, target_names=target_names,output_dict=True)\n",
        "df=pd.DataFrame(report_dict)\n",
        "df['aug']=['No Aug','No Aug','No Aug','No Aug']\n",
        "df['dataset']=['the_wave224','the_wave224','the_wave224','the_wave224']\n",
        "df['val acc']=(history.history['val_accuracy'][-1])*100\n",
        "df['acc']=(history.history['accuracy'][-1])*100\n",
        "Results=Results.append(df)\n",
        "pd.set_option(\"display.max_rows\", None, \"display.max_columns\", None)\n",
        "display(Results)\n",
        "keras.backend.clear_session()\n"
      ],
      "execution_count": 4,
      "outputs": [
        {
          "output_type": "stream",
          "text": [
            "Using TensorFlow backend.\n"
          ],
          "name": "stderr"
        },
        {
          "output_type": "display_data",
          "data": {
            "image/png": "[encoded data removed]",
            "text/plain": [
              "<Figure size 1080x360 with 2 Axes>"
            ]
          },
          "metadata": {
            "tags": [],
            "needs_background": "light"
          }
        },
        {
          "output_type": "stream",
          "text": [
            "Train: 0.895, Test: 0.810\n"
          ],
          "name": "stdout"
        },
        {
          "output_type": "display_data",
          "data": {
            "text/html": [
              "<div>\n",
              "<style scoped>\n",
              "    .dataframe tbody tr th:only-of-type {\n",
              "        vertical-align: middle;\n",
              "    }\n",
              "\n",
              "    .dataframe tbody tr th {\n",
              "        vertical-align: top;\n",
              "    }\n",
              "\n",
              "    .dataframe thead th {\n",
              "        text-align: right;\n",
              "    }\n",
              "</style>\n",
              "<table border=\"1\" class=\"dataframe\">\n",
              "  <thead>\n",
              "    <tr style=\"text-align: right;\">\n",
              "      <th></th>\n",
              "      <th>Class 0</th>\n",
              "      <th>Class 1</th>\n",
              "      <th>accuracy</th>\n",
              "      <th>macro avg</th>\n",
              "      <th>weighted avg</th>\n",
              "      <th>aug</th>\n",
              "      <th>dataset</th>\n",
              "      <th>val acc</th>\n",
              "      <th>acc</th>\n",
              "    </tr>\n",
              "  </thead>\n",
              "  <tbody>\n",
              "    <tr>\n",
              "      <th>precision</th>\n",
              "      <td>0.904762</td>\n",
              "      <td>0.756757</td>\n",
              "      <td>0.810345</td>\n",
              "      <td>0.830759</td>\n",
              "      <td>0.828208</td>\n",
              "      <td>No Aug</td>\n",
              "      <td>the_wave224</td>\n",
              "      <td>81.034482</td>\n",
              "      <td>82.706767</td>\n",
              "    </tr>\n",
              "    <tr>\n",
              "      <th>recall</th>\n",
              "      <td>0.678571</td>\n",
              "      <td>0.933333</td>\n",
              "      <td>0.810345</td>\n",
              "      <td>0.805952</td>\n",
              "      <td>0.810345</td>\n",
              "      <td>No Aug</td>\n",
              "      <td>the_wave224</td>\n",
              "      <td>81.034482</td>\n",
              "      <td>82.706767</td>\n",
              "    </tr>\n",
              "    <tr>\n",
              "      <th>f1-score</th>\n",
              "      <td>0.775510</td>\n",
              "      <td>0.835821</td>\n",
              "      <td>0.810345</td>\n",
              "      <td>0.805666</td>\n",
              "      <td>0.806705</td>\n",
              "      <td>No Aug</td>\n",
              "      <td>the_wave224</td>\n",
              "      <td>81.034482</td>\n",
              "      <td>82.706767</td>\n",
              "    </tr>\n",
              "    <tr>\n",
              "      <th>support</th>\n",
              "      <td>28.000000</td>\n",
              "      <td>30.000000</td>\n",
              "      <td>0.810345</td>\n",
              "      <td>58.000000</td>\n",
              "      <td>58.000000</td>\n",
              "      <td>No Aug</td>\n",
              "      <td>the_wave224</td>\n",
              "      <td>81.034482</td>\n",
              "      <td>82.706767</td>\n",
              "    </tr>\n",
              "  </tbody>\n",
              "</table>\n",
              "</div>"
            ],
            "text/plain": [
              "             Class 0    Class 1  accuracy  macro avg  weighted avg     aug  \\\n",
              "precision   0.904762   0.756757  0.810345   0.830759      0.828208  No Aug   \n",
              "recall      0.678571   0.933333  0.810345   0.805952      0.810345  No Aug   \n",
              "f1-score    0.775510   0.835821  0.810345   0.805666      0.806705  No Aug   \n",
              "support    28.000000  30.000000  0.810345  58.000000     58.000000  No Aug   \n",
              "\n",
              "               dataset    val acc        acc  \n",
              "precision  the_wave224  81.034482  82.706767  \n",
              "recall     the_wave224  81.034482  82.706767  \n",
              "f1-score   the_wave224  81.034482  82.706767  \n",
              "support    the_wave224  81.034482  82.706767  "
            ]
          },
          "metadata": {
            "tags": []
          }
        }
      ]
    },
    {
      "cell_type": "code",
      "metadata": {
        "id": "qdEFKJ_kJH6t",
        "colab_type": "code",
        "colab": {
          "base_uri": "https://localhost:8080/",
          "height": 475
        },
        "outputId": "94fcab87-1c6f-4cc7-ffdd-f242de50a180"
      },
      "source": [
        "from sklearn.metrics import confusion_matrix\n",
        "import pandas as pd\n",
        "import seaborn as sn\n",
        "import matplotlib.pyplot as plt\n",
        "%matplotlib inline\n",
        "import numpy as np\n",
        "\n",
        "y_true =y_testing\n",
        "y_pred = predicted_classes\n",
        "data = confusion_matrix(y_true, y_pred)\n",
        "df_cm = pd.DataFrame(data, columns=np.unique(y_true), index = np.unique(y_true))\n",
        "df_cm.index.name = 'Actual'\n",
        "df_cm.columns.name = 'Predicted'\n",
        "plt.figure(figsize = (10,7))\n",
        "sn.set(font_scale=1.4)#for label size\n",
        "sn.heatmap(df_cm, cmap=\"Blues\", annot=True,annot_kws={\"size\": 16})# font size"
      ],
      "execution_count": 7,
      "outputs": [
        {
          "output_type": "execute_result",
          "data": {
            "text/plain": [
              "<matplotlib.axes._subplots.AxesSubplot at 0x7f02f6fcaac8>"
            ]
          },
          "metadata": {
            "tags": []
          },
          "execution_count": 7
        },
        {
          "output_type": "display_data",
          "data": {
            "image/png": "[encoded data removed]",
            "text/plain": [
              "<Figure size 720x504 with 2 Axes>"
            ]
          },
          "metadata": {
            "tags": [],
            "needs_background": "light"
          }
        }
      ]
    },
    {
      "cell_type": "code",
      "metadata": {
        "id": "Z1nkFlegMsKu",
        "colab_type": "code",
        "colab": {
          "base_uri": "https://localhost:8080/",
          "height": 621
        },
        "outputId": "387825a7-c0e2-493e-ff40-97a634eb7913"
      },
      "source": [
        "import numpy as np\n",
        "import pandas as pd\n",
        "import matplotlib.pyplot as plt\n",
        "%matplotlib inline\n",
        "import seaborn as sns\n",
        "from sklearn.metrics import confusion_matrix\n",
        "\n",
        "def plot_cm(y_true, y_pred, figsize=(10,10)):\n",
        "    cm = confusion_matrix(y_true, y_pred, labels=np.unique(y_true))\n",
        "    cm_sum = np.sum(cm, axis=1, keepdims=True)\n",
        "    cm_perc = cm / cm_sum.astype(float) * 100\n",
        "    annot = np.empty_like(cm).astype(str)\n",
        "    nrows, ncols = cm.shape\n",
        "    for i in range(nrows):\n",
        "        for j in range(ncols):\n",
        "            c = cm[i, j]\n",
        "            p = cm_perc[i, j]\n",
        "            if i == j:\n",
        "                s = cm_sum[i]\n",
        "                annot[i, j] = '%.1f%%\\n%d/%d' % (p, c, s)\n",
        "            elif c == 0:\n",
        "                annot[i, j] = ''\n",
        "            else:\n",
        "                annot[i, j] = '%.1f%%\\n%d' % (p, c)\n",
        "    cm = pd.DataFrame(cm, index=np.unique(y_true), columns=np.unique(y_true))\n",
        "    cm.index.name = 'Actual'\n",
        "    cm.columns.name = 'Predicted'\n",
        "    fig, ax = plt.subplots(figsize=figsize)\n",
        "    sns.heatmap(cm, cmap= \"YlGnBu\", annot=annot, fmt='', ax=ax)\n",
        "    \n",
        "plot_cm(y_true, y_pred)"
      ],
      "execution_count": 8,
      "outputs": [
        {
          "output_type": "display_data",
          "data": {
            "image/png": "[encoded data removed]",
            "text/plain": [
              "<Figure size 720x720 with 2 Axes>"
            ]
          },
          "metadata": {
            "tags": [],
            "needs_background": "light"
          }
        }
      ]
    },
    {
      "cell_type": "code",
      "metadata": {
        "id": "9cH2iWzuRHol",
        "colab_type": "code",
        "colab": {}
      },
      "source": [
        "\t\n",
        "\n",
        "from sklearn.metrics import roc_curve,roc_auc_score\n",
        " \n",
        "fpr , tpr , thresholds = roc_curve ( y_testing , y_pred)\n",
        "def plot_roc_curve(fpr,tpr): \n",
        "plt.plot(fpr,tpr) \n",
        "plt.axis([0,1,0,1]) \n",
        "plt.xlabel('False Positive Rate') \n",
        "plt.ylabel('True Positive Rate') \n",
        "plt.show()    \n",
        "plot_roc_curve (fpr,tpr)\n",
        "\n",
        "auc_score=roc_auc_score(y_testing,y_val_cat_prob) "
      ],
      "execution_count": null,
      "outputs": []
    }
  ]
}